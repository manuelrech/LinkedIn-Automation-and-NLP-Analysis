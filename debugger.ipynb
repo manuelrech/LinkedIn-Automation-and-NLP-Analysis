{
 "cells": [
  {
   "cell_type": "code",
   "execution_count": 91,
   "metadata": {},
   "outputs": [],
   "source": [
    "import pandas as pd\n",
    "import os\n",
    "import utils_api\n",
    "import utils_selenium\n",
    "from time import  sleep\n",
    "from datetime import datetime\n",
    "from selenium.webdriver.common.by import By\n",
    "from selenium.webdriver.chrome.service import Service\n",
    "from selenium.webdriver.support.ui import WebDriverWait\n",
    "from webdriver_manager.chrome import ChromeDriverManager\n",
    "from selenium.webdriver.support import expected_conditions as EC\n",
    "\n",
    "\n",
    "si = pd.read_csv('datasets/submitted_invitation.csv', na_values=[''])\n",
    "sinmail = pd.read_csv('datasets/submitted_inmail.csv')\n",
    "ni = pd.read_csv('datasets/network_info.csv')\n",
    "scta = pd.read_csv('datasets/submitted_call_to_action.csv')\n",
    "fo = pd.read_csv('family_offices_UK.csv')\n",
    "m = pd.read_csv('datasets/message.csv')\n",
    "\n",
    "scta = scta.fillna('')"
   ]
  },
  {
   "cell_type": "code",
   "execution_count": 92,
   "metadata": {},
   "outputs": [
    {
     "name": "stdout",
     "output_type": "stream",
     "text": [
      "--------------------------------------------------------------------------------\n",
      "TOTALE\n",
      "Inviate 16 call to action ad altrettante persone che hanno accettato l'invito\n",
      "Inviate 258 inviti + nota\n",
      "Inviati 0 inmail\n",
      "--------------------------------------------------------------------------------\n",
      "TODAY\n",
      "Inviate 2 call to action ad altrettante persone che hanno accettato l'invito\n",
      "Inviati 55 inviti + nota\n",
      "Inviate 0 inmail\n",
      "--------------------------------------------------------------------------------\n"
     ]
    }
   ],
   "source": [
    "print('-'* 80)\n",
    "print('TOTALE')\n",
    "print('Inviate', len(scta), 'call to action ad altrettante persone che hanno accettato l\\'invito')\n",
    "print('Inviate', len(si), 'inviti + nota')\n",
    "print('Inviati', len(sinmail), 'inmail')\n",
    "print('-'* 80)\n",
    "print('TODAY')\n",
    "today_date = datetime.today().date().strftime(\"%Y-%m-%d\")\n",
    "print('Inviate', len(scta[scta.date_time.str.contains(today_date)]), 'call to action ad altrettante persone che hanno accettato l\\'invito')\n",
    "print('Inviati', len(si[si.datetime.str.contains(today_date)]), 'inviti + nota')\n",
    "print('Inviate', len(sinmail[sinmail.datetime.str.contains(today_date)]), 'inmail')\n",
    "print('-'* 80)"
   ]
  },
  {
   "cell_type": "code",
   "execution_count": null,
   "metadata": {},
   "outputs": [],
   "source": []
  }
 ],
 "metadata": {
  "kernelspec": {
   "display_name": "Python 3",
   "language": "python",
   "name": "python3"
  },
  "language_info": {
   "codemirror_mode": {
    "name": "ipython",
    "version": 3
   },
   "file_extension": ".py",
   "mimetype": "text/x-python",
   "name": "python",
   "nbconvert_exporter": "python",
   "pygments_lexer": "ipython3",
   "version": "3.11.0"
  },
  "orig_nbformat": 4,
  "vscode": {
   "interpreter": {
    "hash": "949777d72b0d2535278d3dc13498b2535136f6dfe0678499012e853ee9abcab1"
   }
  }
 },
 "nbformat": 4,
 "nbformat_minor": 2
}
