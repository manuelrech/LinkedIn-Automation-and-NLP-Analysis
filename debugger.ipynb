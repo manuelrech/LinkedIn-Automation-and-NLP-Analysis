{
 "cells": [
  {
   "cell_type": "code",
   "execution_count": 8,
   "metadata": {},
   "outputs": [],
   "source": [
    "import pandas as pd\n",
    "import os\n",
    "import utils"
   ]
  },
  {
   "cell_type": "code",
   "execution_count": 3,
   "metadata": {},
   "outputs": [
    {
     "data": {
      "text/plain": [
       "['troubling_profiles.csv',\n",
       " 'message.csv',\n",
       " 'submitted_invitation.csv',\n",
       " 'network_info.csv',\n",
       " 'submitted_call_to_action.csv']"
      ]
     },
     "execution_count": 3,
     "metadata": {},
     "output_type": "execute_result"
    }
   ],
   "source": [
    "os.listdir('datasets')"
   ]
  },
  {
   "cell_type": "code",
   "execution_count": 4,
   "metadata": {},
   "outputs": [],
   "source": [
    "tp = pd.read_csv('datasets/troubling_profiles.csv')\n",
    "si = pd.read_csv('datasets/submitted_invitation.csv')\n",
    "ni = pd.read_csv('datasets/network_info.csv')\n",
    "scta = pd.read_csv('datasets/submitted_call_to_action.csv')\n",
    "fo = pd.read_csv('family_offices_UK.csv')"
   ]
  },
  {
   "cell_type": "code",
   "execution_count": 7,
   "metadata": {},
   "outputs": [
    {
     "data": {
      "text/html": [
       "<div>\n",
       "<style scoped>\n",
       "    .dataframe tbody tr th:only-of-type {\n",
       "        vertical-align: middle;\n",
       "    }\n",
       "\n",
       "    .dataframe tbody tr th {\n",
       "        vertical-align: top;\n",
       "    }\n",
       "\n",
       "    .dataframe thead th {\n",
       "        text-align: right;\n",
       "    }\n",
       "</style>\n",
       "<table border=\"1\" class=\"dataframe\">\n",
       "  <thead>\n",
       "    <tr style=\"text-align: right;\">\n",
       "      <th></th>\n",
       "      <th>timestamp_x</th>\n",
       "      <th>date_time_x</th>\n",
       "      <th>profile_id</th>\n",
       "      <th>connection_level</th>\n",
       "      <th>connections</th>\n",
       "      <th>followers</th>\n",
       "      <th>date_time_y</th>\n",
       "      <th>timestamp_y</th>\n",
       "      <th>message_code</th>\n",
       "      <th>accepted_invitation</th>\n",
       "      <th>replied</th>\n",
       "    </tr>\n",
       "  </thead>\n",
       "  <tbody>\n",
       "    <tr>\n",
       "      <th>0</th>\n",
       "      <td>1673991327</td>\n",
       "      <td>2023-01-17 22:35</td>\n",
       "      <td>dmitry-tomkin-61753578</td>\n",
       "      <td>DISTANCE_3</td>\n",
       "      <td>325</td>\n",
       "      <td>329</td>\n",
       "      <td>1673991336</td>\n",
       "      <td>2023-01-17 22:35</td>\n",
       "      <td>n0</td>\n",
       "      <td>False</td>\n",
       "      <td>False</td>\n",
       "    </tr>\n",
       "    <tr>\n",
       "      <th>1</th>\n",
       "      <td>1673991341</td>\n",
       "      <td>2023-01-17 22:35</td>\n",
       "      <td>igor-yelnik-3ab5223</td>\n",
       "      <td>DISTANCE_2</td>\n",
       "      <td>500</td>\n",
       "      <td>3590</td>\n",
       "      <td>1673991354</td>\n",
       "      <td>2023-01-17 22:35</td>\n",
       "      <td>n1</td>\n",
       "      <td>False</td>\n",
       "      <td>False</td>\n",
       "    </tr>\n",
       "    <tr>\n",
       "      <th>2</th>\n",
       "      <td>1673991360</td>\n",
       "      <td>2023-01-17 22:36</td>\n",
       "      <td>alexanderkalis</td>\n",
       "      <td>DISTANCE_3</td>\n",
       "      <td>500</td>\n",
       "      <td>4849</td>\n",
       "      <td>1673991372</td>\n",
       "      <td>2023-01-17 22:36</td>\n",
       "      <td>n0</td>\n",
       "      <td>False</td>\n",
       "      <td>False</td>\n",
       "    </tr>\n",
       "    <tr>\n",
       "      <th>3</th>\n",
       "      <td>1673991374</td>\n",
       "      <td>2023-01-17 22:36</td>\n",
       "      <td>simon-hopkins-9514791</td>\n",
       "      <td>DISTANCE_3</td>\n",
       "      <td>500</td>\n",
       "      <td>11508</td>\n",
       "      <td>1673991385</td>\n",
       "      <td>2023-01-17 22:36</td>\n",
       "      <td>n1</td>\n",
       "      <td>False</td>\n",
       "      <td>False</td>\n",
       "    </tr>\n",
       "    <tr>\n",
       "      <th>4</th>\n",
       "      <td>1673991391</td>\n",
       "      <td>2023-01-17 22:36</td>\n",
       "      <td>alex-jeffrey1</td>\n",
       "      <td>DISTANCE_3</td>\n",
       "      <td>500</td>\n",
       "      <td>3249</td>\n",
       "      <td>1673991403</td>\n",
       "      <td>2023-01-17 22:36</td>\n",
       "      <td>n0</td>\n",
       "      <td>False</td>\n",
       "      <td>False</td>\n",
       "    </tr>\n",
       "  </tbody>\n",
       "</table>\n",
       "</div>"
      ],
      "text/plain": [
       "   timestamp_x       date_time_x              profile_id connection_level  \\\n",
       "0   1673991327  2023-01-17 22:35  dmitry-tomkin-61753578       DISTANCE_3   \n",
       "1   1673991341  2023-01-17 22:35     igor-yelnik-3ab5223       DISTANCE_2   \n",
       "2   1673991360  2023-01-17 22:36          alexanderkalis       DISTANCE_3   \n",
       "3   1673991374  2023-01-17 22:36   simon-hopkins-9514791       DISTANCE_3   \n",
       "4   1673991391  2023-01-17 22:36           alex-jeffrey1       DISTANCE_3   \n",
       "\n",
       "   connections  followers  date_time_y       timestamp_y message_code  \\\n",
       "0          325        329   1673991336  2023-01-17 22:35           n0   \n",
       "1          500       3590   1673991354  2023-01-17 22:35           n1   \n",
       "2          500       4849   1673991372  2023-01-17 22:36           n0   \n",
       "3          500      11508   1673991385  2023-01-17 22:36           n1   \n",
       "4          500       3249   1673991403  2023-01-17 22:36           n0   \n",
       "\n",
       "   accepted_invitation  replied  \n",
       "0                False    False  \n",
       "1                False    False  \n",
       "2                False    False  \n",
       "3                False    False  \n",
       "4                False    False  "
      ]
     },
     "execution_count": 7,
     "metadata": {},
     "output_type": "execute_result"
    }
   ],
   "source": [
    "pd.merge(ni, si, how='left', left_on = 'profile_id', right_on = 'profile_id')"
   ]
  },
  {
   "cell_type": "code",
   "execution_count": null,
   "metadata": {},
   "outputs": [],
   "source": []
  },
  {
   "cell_type": "code",
   "execution_count": null,
   "metadata": {},
   "outputs": [],
   "source": [
    "api = utils.autenticate_linkedin_API('manuel')"
   ]
  }
 ],
 "metadata": {
  "kernelspec": {
   "display_name": "Python 3",
   "language": "python",
   "name": "python3"
  },
  "language_info": {
   "codemirror_mode": {
    "name": "ipython",
    "version": 3
   },
   "file_extension": ".py",
   "mimetype": "text/x-python",
   "name": "python",
   "nbconvert_exporter": "python",
   "pygments_lexer": "ipython3",
   "version": "3.11.0"
  },
  "orig_nbformat": 4,
  "vscode": {
   "interpreter": {
    "hash": "949777d72b0d2535278d3dc13498b2535136f6dfe0678499012e853ee9abcab1"
   }
  }
 },
 "nbformat": 4,
 "nbformat_minor": 2
}
