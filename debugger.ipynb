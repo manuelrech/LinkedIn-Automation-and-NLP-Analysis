{
 "cells": [
  {
   "cell_type": "code",
   "execution_count": 88,
   "metadata": {},
   "outputs": [],
   "source": [
    "from selenium.webdriver.support import expected_conditions as EC\n",
    "from webdriver_manager.chrome import ChromeDriverManager\n",
    "from selenium.webdriver.support.ui import WebDriverWait\n",
    "from selenium.webdriver.chrome.service import Service\n",
    "from selenium.webdriver.common.by import By\n",
    "from utils import utils_selenium, utils_api\n",
    "from datetime import datetime\n",
    "from time import  sleep\n",
    "import pandas as pd\n",
    "import numpy as np\n",
    "import os\n",
    "\n",
    "si = pd.read_csv('datasets/submitted_invitation.csv')\n",
    "sinmail = pd.read_csv('datasets/submitted_inmail.csv')\n",
    "ni = pd.read_csv('datasets/network_info.csv')\n",
    "scta = pd.read_csv('datasets/submitted_call_to_action.csv')\n",
    "fo = pd.read_csv('family_offices_UK.csv')\n",
    "fo_mena = pd.read_csv('family_offices_MENA.csv')\n",
    "m = pd.read_csv('datasets/message.csv')\n",
    "\n",
    "scta = scta.fillna('')"
   ]
  },
  {
   "cell_type": "code",
   "execution_count": 89,
   "metadata": {},
   "outputs": [
    {
     "name": "stdout",
     "output_type": "stream",
     "text": [
      "--------------------------------------------------------------------------------\n",
      "TOTAL\n",
      "Send 50 call to action to people who have accepted invitation\n",
      "Send 384 invitation + note\n",
      "Send 73 inmail\n",
      "--------------------------------------------------------------------------------\n",
      "TODAY\n",
      "Send 10 call to action to people who have accepted invitation\n",
      "Send 0 invitation + note\n",
      "Send 0 inmail\n",
      "--------------------------------------------------------------------------------\n"
     ]
    }
   ],
   "source": [
    "print('-'* 80)\n",
    "print('TOTAL')\n",
    "print('Send', len(scta), 'call to action to people who have accepted invitation')\n",
    "print('Send', len(si), 'invitation + note')\n",
    "print('Send', len(sinmail), 'inmail')\n",
    "print('-'* 80)\n",
    "print('TODAY')\n",
    "today_date = datetime.today().date().strftime(\"%Y-%m-%d\")\n",
    "print('Send', len(scta[scta.date_time.str.contains(today_date)]), 'call to action to people who have accepted invitation')\n",
    "print('Send', len(si[si.datetime.str.contains(today_date)]), 'invitation + note')\n",
    "print('Send', len(sinmail[sinmail.datetime.str.contains(today_date)]), 'inmail')\n",
    "print('-'* 80)"
   ]
  },
  {
   "cell_type": "code",
   "execution_count": 44,
   "metadata": {},
   "outputs": [],
   "source": [
    "import os.path\n",
    "from google.auth.transport.requests import Request\n",
    "from google.oauth2.credentials import Credentials\n",
    "from google_auth_oauthlib.flow import InstalledAppFlow\n",
    "from googleapiclient.discovery import build\n",
    "from googleapiclient.errors import HttpError\n",
    "\n",
    "# If modifying these scopes, delete the file token.json.\n",
    "SCOPES = ['https://www.googleapis.com/auth/spreadsheets.readonly']\n",
    "\n",
    "# The ID and range of a sample spreadsheet.\n",
    "SAMPLE_SPREADSHEET_ID = '1569CbCaM_vQ1sxJWHtPNbOHnbK-nfjMSt5KnUEoXKzE'\n",
    "SAMPLE_RANGE_NAME = 'A:A'\n",
    "\n",
    "\n",
    "def main():\n",
    "    \"\"\"Shows basic usage of the Sheets API.\n",
    "    Prints values from a sample spreadsheet.\n",
    "    \"\"\"\n",
    "    creds = None\n",
    "    # The file token.json stores the user's access and refresh tokens, and is\n",
    "    # created automatically when the authorization flow completes for the first\n",
    "    # time.\n",
    "    if os.path.exists('token.json'):\n",
    "        creds = Credentials.from_authorized_user_file('token.json', SCOPES)\n",
    "    # If there are no (valid) credentials available, let the user log in.\n",
    "    if not creds or not creds.valid:\n",
    "        if creds and creds.expired and creds.refresh_token:\n",
    "            creds.refresh(Request())\n",
    "        else:\n",
    "            flow = InstalledAppFlow.from_client_secrets_file(\n",
    "                'credentials.json', SCOPES)\n",
    "            creds = flow.run_local_server(port=0)\n",
    "        # Save the credentials for the next run\n",
    "        with open('token.json', 'w') as token:\n",
    "            token.write(creds.to_json())\n",
    "\n",
    "    try:\n",
    "        service = build('sheets', 'v4', credentials=creds)\n",
    "\n",
    "        # Call the Sheets API\n",
    "        sheet = service.spreadsheets()\n",
    "        result = sheet.values().get(spreadsheetId=SAMPLE_SPREADSHEET_ID,\n",
    "                                    range=SAMPLE_RANGE_NAME).execute()\n",
    "        values = result.get('values', [])\n",
    "\n",
    "        if not values:\n",
    "            print('No data found.')\n",
    "            return\n",
    "\n",
    "        return values\n",
    "    except HttpError as err:\n",
    "        print(err)\n",
    "\n",
    "links = main()"
   ]
  },
  {
   "cell_type": "code",
   "execution_count": 84,
   "metadata": {},
   "outputs": [
    {
     "name": "stdout",
     "output_type": "stream",
     "text": [
      "vatsi\n",
      "mattykhoury\n",
      "benny-menashe-90457823\n",
      "roberto-giacalone\n",
      "peter-lenart-cfa-caia-09242b9\n",
      "piervan\n",
      "daniel-jaffe-3414312\n"
     ]
    }
   ],
   "source": [
    "for link in links:\n",
    "    profile_id = link[0].split('/')[-2]\n",
    "    print(profile_id)\n",
    "    scta.loc[len(scta)] = ['', '', str(profile_id), 'manual', False]\n",
    "    scta.to_csv('datasets/submitted_call_to_action.csv', index=0)"
   ]
  },
  {
   "cell_type": "code",
   "execution_count": 86,
   "metadata": {},
   "outputs": [],
   "source": []
  },
  {
   "cell_type": "code",
   "execution_count": null,
   "metadata": {},
   "outputs": [],
   "source": []
  }
 ],
 "metadata": {
  "kernelspec": {
   "display_name": "Python 3",
   "language": "python",
   "name": "python3"
  },
  "language_info": {
   "codemirror_mode": {
    "name": "ipython",
    "version": 3
   },
   "file_extension": ".py",
   "mimetype": "text/x-python",
   "name": "python",
   "nbconvert_exporter": "python",
   "pygments_lexer": "ipython3",
   "version": "3.11.0"
  },
  "orig_nbformat": 4,
  "vscode": {
   "interpreter": {
    "hash": "949777d72b0d2535278d3dc13498b2535136f6dfe0678499012e853ee9abcab1"
   }
  }
 },
 "nbformat": 4,
 "nbformat_minor": 2
}
