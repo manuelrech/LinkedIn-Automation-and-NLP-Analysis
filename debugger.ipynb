{
 "cells": [
  {
   "cell_type": "code",
   "execution_count": 74,
   "metadata": {},
   "outputs": [],
   "source": [
    "import pandas as pd\n",
    "import os\n",
    "import utils\n",
    "from time import  sleep\n",
    "import utils_inmail\n",
    "from datetime import datetime\n",
    "from selenium.webdriver.common.by import By\n",
    "from selenium.webdriver.chrome.service import Service\n",
    "from selenium.webdriver.support.ui import WebDriverWait\n",
    "from webdriver_manager.chrome import ChromeDriverManager\n",
    "from selenium.webdriver.support import expected_conditions as EC"
   ]
  },
  {
   "cell_type": "code",
   "execution_count": 88,
   "metadata": {},
   "outputs": [],
   "source": [
    "tp = pd.read_csv('datasets/troubling_profiles.csv')\n",
    "si = pd.read_csv('datasets/submitted_invitation.csv')\n",
    "sinmail = pd.read_csv('datasets/submitted_inmail.csv')\n",
    "ni = pd.read_csv('datasets/network_info.csv')\n",
    "scta = pd.read_csv('datasets/submitted_call_to_action.csv')\n",
    "fo = pd.read_csv('family_offices_UK.csv')\n",
    "m = pd.read_csv('datasets/message.csv')"
   ]
  }
 ],
 "metadata": {
  "kernelspec": {
   "display_name": "Python 3",
   "language": "python",
   "name": "python3"
  },
  "language_info": {
   "codemirror_mode": {
    "name": "ipython",
    "version": 3
   },
   "file_extension": ".py",
   "mimetype": "text/x-python",
   "name": "python",
   "nbconvert_exporter": "python",
   "pygments_lexer": "ipython3",
   "version": "3.11.0"
  },
  "orig_nbformat": 4,
  "vscode": {
   "interpreter": {
    "hash": "949777d72b0d2535278d3dc13498b2535136f6dfe0678499012e853ee9abcab1"
   }
  }
 },
 "nbformat": 4,
 "nbformat_minor": 2
}
