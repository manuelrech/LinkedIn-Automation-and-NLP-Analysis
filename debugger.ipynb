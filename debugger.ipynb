{
 "cells": [
  {
   "cell_type": "code",
   "execution_count": 236,
   "metadata": {},
   "outputs": [],
   "source": [
    "import pandas as pd\n",
    "import os\n",
    "import utils\n",
    "from time import  sleep\n",
    "import utils_inmail\n",
    "from datetime import datetime\n",
    "from selenium.webdriver.common.by import By\n",
    "from selenium.webdriver.chrome.service import Service\n",
    "from selenium.webdriver.support.ui import WebDriverWait\n",
    "from webdriver_manager.chrome import ChromeDriverManager\n",
    "from selenium.webdriver.support import expected_conditions as EC"
   ]
  },
  {
   "cell_type": "code",
   "execution_count": 237,
   "metadata": {},
   "outputs": [
    {
     "data": {
      "text/plain": [
       "['troubling_profiles.csv',\n",
       " 'submitted_inmail.csv',\n",
       " 'message.csv',\n",
       " 'submitted_invitation.csv',\n",
       " 'network_info.csv',\n",
       " 'submitted_call_to_action.csv']"
      ]
     },
     "execution_count": 237,
     "metadata": {},
     "output_type": "execute_result"
    }
   ],
   "source": [
    "os.listdir('datasets')"
   ]
  },
  {
   "cell_type": "code",
   "execution_count": 241,
   "metadata": {},
   "outputs": [],
   "source": [
    "tp = pd.read_csv('datasets/troubling_profiles.csv')\n",
    "si = pd.read_csv('datasets/submitted_invitation.csv')\n",
    "sinmail = pd.read_csv('datasets/submitted_inmail.csv')\n",
    "ni = pd.read_csv('datasets/network_info.csv')\n",
    "scta = pd.read_csv('datasets/submitted_call_to_action.csv')\n",
    "fo = pd.read_csv('family_offices_UK.csv')\n",
    "m = pd.read_csv('datasets/message.csv')"
   ]
  },
  {
   "cell_type": "code",
   "execution_count": 245,
   "metadata": {},
   "outputs": [
    {
     "data": {
      "text/html": [
       "<div>\n",
       "<style scoped>\n",
       "    .dataframe tbody tr th:only-of-type {\n",
       "        vertical-align: middle;\n",
       "    }\n",
       "\n",
       "    .dataframe tbody tr th {\n",
       "        vertical-align: top;\n",
       "    }\n",
       "\n",
       "    .dataframe thead th {\n",
       "        text-align: right;\n",
       "    }\n",
       "</style>\n",
       "<table border=\"1\" class=\"dataframe\">\n",
       "  <thead>\n",
       "    <tr style=\"text-align: right;\">\n",
       "      <th></th>\n",
       "      <th>timestamp</th>\n",
       "      <th>date_time</th>\n",
       "      <th>profile_id</th>\n",
       "      <th>message_code</th>\n",
       "      <th>replied</th>\n",
       "    </tr>\n",
       "  </thead>\n",
       "  <tbody>\n",
       "    <tr>\n",
       "      <th>0</th>\n",
       "      <td>1674058795</td>\n",
       "      <td>2023-01-18 17:19</td>\n",
       "      <td>flemingprivateoffice</td>\n",
       "      <td>c2</td>\n",
       "      <td>False</td>\n",
       "    </tr>\n",
       "    <tr>\n",
       "      <th>1</th>\n",
       "      <td>1674126962</td>\n",
       "      <td>2023-01-19 12:16</td>\n",
       "      <td>simon-hopkins-9514791</td>\n",
       "      <td>c2</td>\n",
       "      <td>False</td>\n",
       "    </tr>\n",
       "  </tbody>\n",
       "</table>\n",
       "</div>"
      ],
      "text/plain": [
       "    timestamp         date_time             profile_id message_code  replied\n",
       "0  1674058795  2023-01-18 17:19   flemingprivateoffice           c2    False\n",
       "1  1674126962  2023-01-19 12:16  simon-hopkins-9514791           c2    False"
      ]
     },
     "execution_count": 245,
     "metadata": {},
     "output_type": "execute_result"
    }
   ],
   "source": [
    "scta"
   ]
  },
  {
   "cell_type": "code",
   "execution_count": 157,
   "metadata": {},
   "outputs": [],
   "source": [
    "seven_days_timestamp = 604800"
   ]
  },
  {
   "cell_type": "code",
   "execution_count": 158,
   "metadata": {},
   "outputs": [
    {
     "data": {
      "text/plain": [
       "1674050337"
      ]
     },
     "execution_count": 158,
     "metadata": {},
     "output_type": "execute_result"
    }
   ],
   "source": [
    "current_timestamp = int(datetime.now().timestamp())\n",
    "current_timestamp"
   ]
  },
  {
   "cell_type": "code",
   "execution_count": 159,
   "metadata": {},
   "outputs": [
    {
     "data": {
      "text/html": [
       "<div>\n",
       "<style scoped>\n",
       "    .dataframe tbody tr th:only-of-type {\n",
       "        vertical-align: middle;\n",
       "    }\n",
       "\n",
       "    .dataframe tbody tr th {\n",
       "        vertical-align: top;\n",
       "    }\n",
       "\n",
       "    .dataframe thead th {\n",
       "        text-align: right;\n",
       "    }\n",
       "</style>\n",
       "<table border=\"1\" class=\"dataframe\">\n",
       "  <thead>\n",
       "    <tr style=\"text-align: right;\">\n",
       "      <th></th>\n",
       "      <th>timestamp</th>\n",
       "      <th>date_time</th>\n",
       "      <th>profile_id</th>\n",
       "      <th>message_code</th>\n",
       "      <th>accepted_invitation</th>\n",
       "      <th>replied</th>\n",
       "    </tr>\n",
       "  </thead>\n",
       "  <tbody>\n",
       "    <tr>\n",
       "      <th>0</th>\n",
       "      <td>16739</td>\n",
       "      <td>2023-01-17 22:35</td>\n",
       "      <td>dmitry-tomkin-61753578</td>\n",
       "      <td>n0</td>\n",
       "      <td>False</td>\n",
       "      <td>False</td>\n",
       "    </tr>\n",
       "  </tbody>\n",
       "</table>\n",
       "</div>"
      ],
      "text/plain": [
       "   timestamp         date_time              profile_id message_code  \\\n",
       "0      16739  2023-01-17 22:35  dmitry-tomkin-61753578           n0   \n",
       "\n",
       "   accepted_invitation  replied  \n",
       "0                False    False  "
      ]
     },
     "execution_count": 159,
     "metadata": {},
     "output_type": "execute_result"
    }
   ],
   "source": [
    "si_not_accepted = si[si.accepted_invitation == False]\n",
    "si_to_be_inmailed = si_not_accepted[si_not_accepted.timestamp + seven_days_timestamp < current_timestamp]\n",
    "si_to_be_inmailed"
   ]
  },
  {
   "cell_type": "code",
   "execution_count": 163,
   "metadata": {},
   "outputs": [
    {
     "data": {
      "text/html": [
       "<div>\n",
       "<style scoped>\n",
       "    .dataframe tbody tr th:only-of-type {\n",
       "        vertical-align: middle;\n",
       "    }\n",
       "\n",
       "    .dataframe tbody tr th {\n",
       "        vertical-align: top;\n",
       "    }\n",
       "\n",
       "    .dataframe thead th {\n",
       "        text-align: right;\n",
       "    }\n",
       "</style>\n",
       "<table border=\"1\" class=\"dataframe\">\n",
       "  <thead>\n",
       "    <tr style=\"text-align: right;\">\n",
       "      <th></th>\n",
       "      <th>timestamp_invitation</th>\n",
       "      <th>date_time</th>\n",
       "      <th>profile_id</th>\n",
       "      <th>message_code_invitation</th>\n",
       "      <th>accepted_invitation</th>\n",
       "      <th>replied</th>\n",
       "      <th>timestamp_inmail</th>\n",
       "      <th>datetime</th>\n",
       "      <th>message_code_inmail</th>\n",
       "    </tr>\n",
       "  </thead>\n",
       "  <tbody>\n",
       "  </tbody>\n",
       "</table>\n",
       "</div>"
      ],
      "text/plain": [
       "Empty DataFrame\n",
       "Columns: [timestamp_invitation, date_time, profile_id, message_code_invitation, accepted_invitation, replied, timestamp_inmail, datetime, message_code_inmail]\n",
       "Index: []"
      ]
     },
     "execution_count": 163,
     "metadata": {},
     "output_type": "execute_result"
    }
   ],
   "source": [
    "pd.merge(si_to_be_inmailed, sinmail, on='profile_id', suffixes=('_invitation', '_inmail'))"
   ]
  },
  {
   "cell_type": "code",
   "execution_count": 196,
   "metadata": {},
   "outputs": [
    {
     "name": "stderr",
     "output_type": "stream",
     "text": [
      "INFO:WDM:====== WebDriver manager ======\n",
      "INFO:WDM:Get LATEST chromedriver version for google-chrome 109.0.5414\n",
      "INFO:WDM:Driver [/Users/manuel/.wdm/drivers/chromedriver/mac64/109.0.5414/chromedriver] found in cache\n"
     ]
    }
   ],
   "source": [
    "driver = utils_inmail.linkedin_login(username = 'gianluca@vaiuk.finance', password = '2023.VaiLondon$')"
   ]
  },
  {
   "cell_type": "code",
   "execution_count": 197,
   "metadata": {},
   "outputs": [
    {
     "ename": "NameError",
     "evalue": "name 'sleep' is not defined",
     "output_type": "error",
     "traceback": [
      "\u001b[0;31m---------------------------------------------------------------------------\u001b[0m",
      "\u001b[0;31mNameError\u001b[0m                                 Traceback (most recent call last)",
      "Cell \u001b[0;32mIn[197], line 9\u001b[0m\n\u001b[1;32m      6\u001b[0m view_in_sales_navigator_button \u001b[39m=\u001b[39m WebDriverWait(driver, \u001b[39m10\u001b[39m)\u001b[39m.\u001b[39muntil(EC\u001b[39m.\u001b[39melement_to_be_clickable((By\u001b[39m.\u001b[39mXPATH, \u001b[39m'\u001b[39m\u001b[39m/html/body/div[6]/div[3]/div/div/div[2]/div/div/main/section[1]/div[2]/div[3]/div/div[2]/div/div/ul/li[1]/div\u001b[39m\u001b[39m'\u001b[39m)))\n\u001b[1;32m      7\u001b[0m view_in_sales_navigator_button\u001b[39m.\u001b[39mclick() \n\u001b[0;32m----> 9\u001b[0m sleep(\u001b[39m3\u001b[39m)        \n\u001b[1;32m     11\u001b[0m driver\u001b[39m.\u001b[39mswitch_to\u001b[39m.\u001b[39mwindow(driver\u001b[39m.\u001b[39mwindow_handles[\u001b[39m-\u001b[39m\u001b[39m1\u001b[39m])\n\u001b[1;32m     13\u001b[0m message_button \u001b[39m=\u001b[39m WebDriverWait(driver, \u001b[39m10\u001b[39m)\u001b[39m.\u001b[39muntil(EC\u001b[39m.\u001b[39melement_to_be_clickable((By\u001b[39m.\u001b[39mXPATH, \u001b[39m'\u001b[39m\u001b[39m/html/body/main/div[1]/div[3]/div/div[1]/div/div/section[1]/section[1]/div[2]/section/div[1]/div[2]/button\u001b[39m\u001b[39m'\u001b[39m)))\n",
      "\u001b[0;31mNameError\u001b[0m: name 'sleep' is not defined"
     ]
    }
   ],
   "source": [
    "profile_id = 'eddie-donmez-538b55b5'\n",
    "driver.get(f\"https://www.linkedin.com/in/{profile_id}\")\n",
    "more_button = WebDriverWait(driver, 10).until(EC.element_to_be_clickable((By.XPATH, '/html/body/div[6]/div[3]/div/div/div[2]/div/div/main/section[1]/div[2]/div[3]/div/div[2]/button')))\n",
    "more_button.click() \n",
    "\n",
    "view_in_sales_navigator_button = WebDriverWait(driver, 10).until(EC.element_to_be_clickable((By.XPATH, '/html/body/div[6]/div[3]/div/div/div[2]/div/div/main/section[1]/div[2]/div[3]/div/div[2]/div/div/ul/li[1]/div')))\n",
    "view_in_sales_navigator_button.click() \n",
    "\n",
    "sleep(3)        \n",
    "\n",
    "driver.switch_to.window(driver.window_handles[-1])\n",
    "\n",
    "message_button = WebDriverWait(driver, 10).until(EC.element_to_be_clickable((By.XPATH, '/html/body/main/div[1]/div[3]/div/div[1]/div/div/section[1]/section[1]/div[2]/section/div[1]/div[2]/button')))\n",
    "message_button.click()\n",
    "\n",
    "object_field = WebDriverWait(driver, 10).until(EC.element_to_be_clickable((By.XPATH, '/html/body/div[8]/section/div[2]/section/div[2]/form[1]/input')))\n",
    "object_field.send_keys('prova')\n",
    "\n",
    "core_field = WebDriverWait(driver, 10).until(EC.element_to_be_clickable((By.TAG_NAME, 'textarea')))\n",
    "core_field.send_keys('proviamo ancora')\n",
    "\n",
    "send_button = WebDriverWait(driver, 10).until(EC.element_to_be_clickable((By.XPATH, '/html/body/div[8]/section/div[2]/section/div[2]/form[1]/section[2]/span[2]/button')))\n",
    "send_button.click()\n",
    "\n",
    "driver.switch_to.window(driver.window_handles[0])"
   ]
  },
  {
   "cell_type": "code",
   "execution_count": 198,
   "metadata": {},
   "outputs": [
    {
     "name": "stderr",
     "output_type": "stream",
     "text": [
      "INFO:utils:Logged into API using manuel's profile\n"
     ]
    }
   ],
   "source": [
    "api = utils.autenticate_linkedin_API('manuel')"
   ]
  },
  {
   "cell_type": "code",
   "execution_count": null,
   "metadata": {},
   "outputs": [],
   "source": []
  }
 ],
 "metadata": {
  "kernelspec": {
   "display_name": "Python 3",
   "language": "python",
   "name": "python3"
  },
  "language_info": {
   "codemirror_mode": {
    "name": "ipython",
    "version": 3
   },
   "file_extension": ".py",
   "mimetype": "text/x-python",
   "name": "python",
   "nbconvert_exporter": "python",
   "pygments_lexer": "ipython3",
   "version": "3.11.0"
  },
  "orig_nbformat": 4,
  "vscode": {
   "interpreter": {
    "hash": "949777d72b0d2535278d3dc13498b2535136f6dfe0678499012e853ee9abcab1"
   }
  }
 },
 "nbformat": 4,
 "nbformat_minor": 2
}
