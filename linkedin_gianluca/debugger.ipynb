{
 "cells": [
  {
   "cell_type": "code",
   "execution_count": 4,
   "metadata": {},
   "outputs": [
    {
     "name": "stdout",
     "output_type": "stream",
     "text": [
      "/Users/manuel/Desktop/Linkedin/linkedin_gianluca\n"
     ]
    }
   ],
   "source": [
    "import sys\n",
    "sys.path.append('../')\n",
    "from selenium.webdriver.support import expected_conditions as EC\n",
    "from webdriver_manager.chrome import ChromeDriverManager\n",
    "from selenium.webdriver.support.ui import WebDriverWait\n",
    "from selenium.webdriver.chrome.service import Service\n",
    "from selenium.webdriver.common.by import By\n",
    "from utils import utils_selenium, utils_api\n",
    "from datetime import datetime\n",
    "from time import  sleep\n",
    "import pandas as pd\n",
    "import numpy as np\n",
    "import os\n",
    "# print(os.getcwd())\n",
    "\n",
    "si = pd.read_csv('datasets/submitted_invitation.csv')\n",
    "sinmail = pd.read_csv('datasets/submitted_inmail.csv')\n",
    "ni = pd.read_csv('datasets/network_info.csv')\n",
    "scta = pd.read_csv('datasets/submitted_call_to_action.csv')\n",
    "fo = pd.read_csv('family_offices_UK.csv')\n",
    "m = pd.read_csv('datasets/message.csv')\n",
    "\n",
    "scta = scta.fillna('')"
   ]
  },
  {
   "cell_type": "code",
   "execution_count": 5,
   "metadata": {},
   "outputs": [
    {
     "name": "stdout",
     "output_type": "stream",
     "text": [
      "--------------------------------------------------------------------------------\n",
      "TOTAL\n",
      "Send 66 call to action to people who have accepted invitation\n",
      "Send 384 invitation + note\n",
      "Send 107 inmail\n",
      "--------------------------------------------------------------------------------\n",
      "TODAY\n",
      "Send 0 call to action to people who have accepted invitation\n",
      "Send 0 invitation + note\n",
      "Send 0 inmail\n",
      "--------------------------------------------------------------------------------\n"
     ]
    }
   ],
   "source": [
    "print('-'* 80)\n",
    "print('TOTAL')\n",
    "print('Send', len(scta), 'call to action to people who have accepted invitation')\n",
    "print('Send', len(si), 'invitation + note')\n",
    "print('Send', len(sinmail), 'inmail')\n",
    "print('-'* 80)\n",
    "print('TODAY')\n",
    "today_date = datetime.today().date().strftime(\"%Y-%m-%d\")\n",
    "print('Send', len(scta[scta.date_time.str.contains(today_date)]), 'call to action to people who have accepted invitation')\n",
    "print('Send', len(si[si.datetime.str.contains(today_date)]), 'invitation + note')\n",
    "print('Send', len(sinmail[sinmail.datetime.str.contains(today_date)]), 'inmail')\n",
    "print('-'* 80)"
   ]
  },
  {
   "cell_type": "code",
   "execution_count": null,
   "metadata": {},
   "outputs": [],
   "source": []
  }
 ],
 "metadata": {
  "kernelspec": {
   "display_name": "Python 3",
   "language": "python",
   "name": "python3"
  },
  "language_info": {
   "codemirror_mode": {
    "name": "ipython",
    "version": 3
   },
   "file_extension": ".py",
   "mimetype": "text/x-python",
   "name": "python",
   "nbconvert_exporter": "python",
   "pygments_lexer": "ipython3",
   "version": "3.11.0"
  },
  "orig_nbformat": 4,
  "vscode": {
   "interpreter": {
    "hash": "949777d72b0d2535278d3dc13498b2535136f6dfe0678499012e853ee9abcab1"
   }
  }
 },
 "nbformat": 4,
 "nbformat_minor": 2
}
